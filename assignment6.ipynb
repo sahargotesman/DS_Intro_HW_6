{
 "cells": [
  {
   "cell_type": "markdown",
   "id": "36ebd9ea",
   "metadata": {},
   "source": [
    "## Import"
   ]
  },
  {
   "cell_type": "code",
   "execution_count": 25,
   "id": "92282e48",
   "metadata": {
    "scrolled": true
   },
   "outputs": [],
   "source": [
    "from bs4 import BeautifulSoup\n",
    "import pandas as pd #pandas library\n",
    "#from pandas_datareader import data as pdr#data readers (google, html, etc.)\n",
    "#import pandas_datareader as pdr\n",
    "import numpy as np\n",
    "import datetime as dt #datetime for timeseries support\n",
    "import matplotlib\n"
   ]
  },
  {
   "cell_type": "markdown",
   "id": "a7b335d1",
   "metadata": {},
   "source": [
    "# Import csv file"
   ]
  },
  {
   "cell_type": "code",
   "execution_count": 26,
   "id": "6ea41954",
   "metadata": {},
   "outputs": [
    {
     "data": {
      "text/html": [
       "<div>\n",
       "<style scoped>\n",
       "    .dataframe tbody tr th:only-of-type {\n",
       "        vertical-align: middle;\n",
       "    }\n",
       "\n",
       "    .dataframe tbody tr th {\n",
       "        vertical-align: top;\n",
       "    }\n",
       "\n",
       "    .dataframe thead th {\n",
       "        text-align: right;\n",
       "    }\n",
       "</style>\n",
       "<table border=\"1\" class=\"dataframe\">\n",
       "  <thead>\n",
       "    <tr style=\"text-align: right;\">\n",
       "      <th></th>\n",
       "      <th>Unnamed: 0</th>\n",
       "      <th>City</th>\n",
       "      <th>country</th>\n",
       "      <th>Description</th>\n",
       "    </tr>\n",
       "  </thead>\n",
       "  <tbody>\n",
       "    <tr>\n",
       "      <th>0</th>\n",
       "      <td>0</td>\n",
       "      <td>Antalya</td>\n",
       "      <td>Turkey</td>\n",
       "      <td>Once seen simply as the gateway to the Turkish...</td>\n",
       "    </tr>\n",
       "    <tr>\n",
       "      <th>1</th>\n",
       "      <td>1</td>\n",
       "      <td>Athens</td>\n",
       "      <td>Greece</td>\n",
       "      <td>With equal measures of grunge and grace, Athen...</td>\n",
       "    </tr>\n",
       "    <tr>\n",
       "      <th>2</th>\n",
       "      <td>2</td>\n",
       "      <td>Ayia-napa</td>\n",
       "      <td>Cyprus</td>\n",
       "      <td>Endless blue-sky days and a coastline riddled ...</td>\n",
       "    </tr>\n",
       "    <tr>\n",
       "      <th>3</th>\n",
       "      <td>3</td>\n",
       "      <td>Bangkok</td>\n",
       "      <td>Thailand</td>\n",
       "      <td>Same same, but different. This Thailish T-shir...</td>\n",
       "    </tr>\n",
       "    <tr>\n",
       "      <th>4</th>\n",
       "      <td>4</td>\n",
       "      <td>Barcelona</td>\n",
       "      <td>Spain</td>\n",
       "      <td>Barcelona is an enchanting seaside city with b...</td>\n",
       "    </tr>\n",
       "  </tbody>\n",
       "</table>\n",
       "</div>"
      ],
      "text/plain": [
       "   Unnamed: 0       City   country  \\\n",
       "0           0    Antalya    Turkey   \n",
       "1           1     Athens    Greece   \n",
       "2           2  Ayia-napa    Cyprus   \n",
       "3           3    Bangkok  Thailand   \n",
       "4           4  Barcelona     Spain   \n",
       "\n",
       "                                         Description  \n",
       "0  Once seen simply as the gateway to the Turkish...  \n",
       "1  With equal measures of grunge and grace, Athen...  \n",
       "2  Endless blue-sky days and a coastline riddled ...  \n",
       "3  Same same, but different. This Thailish T-shir...  \n",
       "4  Barcelona is an enchanting seaside city with b...  "
      ]
     },
     "execution_count": 26,
     "metadata": {},
     "output_type": "execute_result"
    }
   ],
   "source": [
    "df = pd.read_csv(\"/Users/il016140/Documents/OneDrive - Ariel University/Year 3/semester b/introw- Data sience/Tasks- Jupiter/assignment 5/LP_destinations.csv\", encoding='ISO-8859-1')\n",
    "df.head()"
   ]
  },
  {
   "cell_type": "markdown",
   "id": "5ee51f57",
   "metadata": {},
   "source": [
    "# EX_6"
   ]
  },
  {
   "cell_type": "code",
   "execution_count": 27,
   "id": "6f4c415f",
   "metadata": {},
   "outputs": [
    {
     "name": "stdout",
     "output_type": "stream",
     "text": [
      "1\n"
     ]
    },
    {
     "data": {
      "text/html": [
       "<div>\n",
       "<style scoped>\n",
       "    .dataframe tbody tr th:only-of-type {\n",
       "        vertical-align: middle;\n",
       "    }\n",
       "\n",
       "    .dataframe tbody tr th {\n",
       "        vertical-align: top;\n",
       "    }\n",
       "\n",
       "    .dataframe thead th {\n",
       "        text-align: right;\n",
       "    }\n",
       "</style>\n",
       "<table border=\"1\" class=\"dataframe\">\n",
       "  <thead>\n",
       "    <tr style=\"text-align: right;\">\n",
       "      <th></th>\n",
       "      <th>Unnamed: 0</th>\n",
       "      <th>City</th>\n",
       "      <th>country</th>\n",
       "      <th>Description</th>\n",
       "      <th>num_of_words</th>\n",
       "      <th>No_punct_deascription</th>\n",
       "      <th>has_restaurants</th>\n",
       "      <th>has_museums</th>\n",
       "      <th>has_beaches</th>\n",
       "    </tr>\n",
       "  </thead>\n",
       "  <tbody>\n",
       "    <tr>\n",
       "      <th>0</th>\n",
       "      <td>0</td>\n",
       "      <td>Antalya</td>\n",
       "      <td>Turkey</td>\n",
       "      <td>Once seen simply as the gateway to the Turkish...</td>\n",
       "      <td>112</td>\n",
       "      <td>Once seen simply as the gateway to the Turkish...</td>\n",
       "      <td>0</td>\n",
       "      <td>1</td>\n",
       "      <td>1</td>\n",
       "    </tr>\n",
       "    <tr>\n",
       "      <th>1</th>\n",
       "      <td>1</td>\n",
       "      <td>Athens</td>\n",
       "      <td>Greece</td>\n",
       "      <td>With equal measures of grunge and grace, Athen...</td>\n",
       "      <td>393</td>\n",
       "      <td>With equal measures of grunge and grace Athens...</td>\n",
       "      <td>1</td>\n",
       "      <td>0</td>\n",
       "      <td>2</td>\n",
       "    </tr>\n",
       "    <tr>\n",
       "      <th>2</th>\n",
       "      <td>2</td>\n",
       "      <td>Ayia-napa</td>\n",
       "      <td>Cyprus</td>\n",
       "      <td>Endless blue-sky days and a coastline riddled ...</td>\n",
       "      <td>147</td>\n",
       "      <td>Endless bluesky days and a coastline riddled w...</td>\n",
       "      <td>0</td>\n",
       "      <td>0</td>\n",
       "      <td>2</td>\n",
       "    </tr>\n",
       "    <tr>\n",
       "      <th>3</th>\n",
       "      <td>3</td>\n",
       "      <td>Bangkok</td>\n",
       "      <td>Thailand</td>\n",
       "      <td>Same same, but different. This Thailish T-shir...</td>\n",
       "      <td>390</td>\n",
       "      <td>Same same but different This Thailish Tshirt p...</td>\n",
       "      <td>1</td>\n",
       "      <td>0</td>\n",
       "      <td>0</td>\n",
       "    </tr>\n",
       "    <tr>\n",
       "      <th>4</th>\n",
       "      <td>4</td>\n",
       "      <td>Barcelona</td>\n",
       "      <td>Spain</td>\n",
       "      <td>Barcelona is an enchanting seaside city with b...</td>\n",
       "      <td>419</td>\n",
       "      <td>Barcelona is an enchanting seaside city with b...</td>\n",
       "      <td>1</td>\n",
       "      <td>2</td>\n",
       "      <td>7</td>\n",
       "    </tr>\n",
       "  </tbody>\n",
       "</table>\n",
       "</div>"
      ],
      "text/plain": [
       "   Unnamed: 0       City   country  \\\n",
       "0           0    Antalya    Turkey   \n",
       "1           1     Athens    Greece   \n",
       "2           2  Ayia-napa    Cyprus   \n",
       "3           3    Bangkok  Thailand   \n",
       "4           4  Barcelona     Spain   \n",
       "\n",
       "                                         Description  num_of_words  \\\n",
       "0  Once seen simply as the gateway to the Turkish...           112   \n",
       "1  With equal measures of grunge and grace, Athen...           393   \n",
       "2  Endless blue-sky days and a coastline riddled ...           147   \n",
       "3  Same same, but different. This Thailish T-shir...           390   \n",
       "4  Barcelona is an enchanting seaside city with b...           419   \n",
       "\n",
       "                               No_punct_deascription  has_restaurants  \\\n",
       "0  Once seen simply as the gateway to the Turkish...                0   \n",
       "1  With equal measures of grunge and grace Athens...                1   \n",
       "2  Endless bluesky days and a coastline riddled w...                0   \n",
       "3  Same same but different This Thailish Tshirt p...                1   \n",
       "4  Barcelona is an enchanting seaside city with b...                1   \n",
       "\n",
       "   has_museums  has_beaches  \n",
       "0            1            1  \n",
       "1            0            2  \n",
       "2            0            2  \n",
       "3            0            0  \n",
       "4            2            7  "
      ]
     },
     "execution_count": 27,
     "metadata": {},
     "output_type": "execute_result"
    }
   ],
   "source": [
    "df['num_of_words'] =df['Description'].apply(lambda x:len(str(x).split(\" \")))\n",
    "df['No_punct_deascription'] = df['Description'].str.replace(r'[^\\w\\s]+','',regex=True)\n",
    "df['has_restaurants'] = df['Description'].str.count('restaurant')\n",
    "df['has_museums'] = df['Description'].str.count('museum')\n",
    "df['has_beaches'] = (df['Description'].str.count('beach')) +(df['Description'].str.count('ocean')) + (df['Description'].str.count('sea'))\n",
    "print(df['Description'][1].count(\"restaurant\"))\n",
    "df.head()"
   ]
  },
  {
   "cell_type": "code",
   "execution_count": 28,
   "id": "a953205f",
   "metadata": {},
   "outputs": [
    {
     "data": {
      "text/plain": [
       "272.5131578947368"
      ]
     },
     "execution_count": 28,
     "metadata": {},
     "output_type": "execute_result"
    }
   ],
   "source": [
    "df['num_of_words'].mean()"
   ]
  },
  {
   "cell_type": "code",
   "execution_count": 29,
   "id": "f0089e58",
   "metadata": {},
   "outputs": [
    {
     "name": "stdout",
     "output_type": "stream",
     "text": [
      "28    Florence\n",
      "Name: City, dtype: object\n"
     ]
    }
   ],
   "source": [
    "max_index = df.loc[df['num_of_words'] == df['num_of_words'].max()]['City']\n",
    "print(max_index)"
   ]
  },
  {
   "cell_type": "code",
   "execution_count": 30,
   "id": "af75f335",
   "metadata": {
    "scrolled": true
   },
   "outputs": [
    {
     "data": {
      "text/plain": [
       "<AxesSubplot:>"
      ]
     },
     "execution_count": 30,
     "metadata": {},
     "output_type": "execute_result"
    },
    {
     "data": {
      "image/png": "[encoded data removed]",
      "text/plain": [
       "<Figure size 432x288 with 1 Axes>"
      ]
     },
     "metadata": {
      "needs_background": "light"
     },
     "output_type": "display_data"
    }
   ],
   "source": [
    "df['num_of_words'].hist(bins=len(df))"
   ]
  },
  {
   "cell_type": "code",
   "execution_count": 31,
   "id": "54d0a70c",
   "metadata": {},
   "outputs": [
    {
     "data": {
      "text/plain": [
       "Text(0, 0.5, 'has_restaurants')"
      ]
     },
     "execution_count": 31,
     "metadata": {},
     "output_type": "execute_result"
    },
    {
     "data": {
      "image/png": "[encoded data removed]",
      "text/plain": [
       "<Figure size 432x288 with 1 Axes>"
      ]
     },
     "metadata": {
      "needs_background": "light"
     },
     "output_type": "display_data"
    }
   ],
   "source": [
    "Y = df.plot(x = 'has_restaurants', y = 'has_beaches', style = 'o', title = 'relationship between number of beaches and number of restaurants')\n",
    "Y.set_ylabel(\"has_restaurants\")"
   ]
  },
  {
   "cell_type": "code",
   "execution_count": 32,
   "id": "ea902d7d",
   "metadata": {},
   "outputs": [
    {
     "data": {
      "text/plain": [
       "Text(0, 0.5, 'has_beaches')"
      ]
     },
     "execution_count": 32,
     "metadata": {},
     "output_type": "execute_result"
    },
    {
     "data": {
      "image/png": "[encoded data removed]",
      "text/plain": [
       "<Figure size 432x288 with 1 Axes>"
      ]
     },
     "metadata": {
      "needs_background": "light"
     },
     "output_type": "display_data"
    }
   ],
   "source": [
    "X = df.plot(x='has_museums', y='has_beaches', style='o',title=\"relationship between number of museums and the number of beaches\")\n",
    "X.set_ylabel(\"has_beaches\")\n"
   ]
  },
  {
   "cell_type": "code",
   "execution_count": null,
   "id": "9864bf3e",
   "metadata": {},
   "outputs": [],
   "source": []
  },
  {
   "cell_type": "code",
   "execution_count": null,
   "id": "bbe3453f",
   "metadata": {},
   "outputs": [],
   "source": []
  }
 ],
 "metadata": {
  "kernelspec": {
   "display_name": "Python 3 (ipykernel)",
   "language": "python",
   "name": "python3"
  },
  "language_info": {
   "codemirror_mode": {
    "name": "ipython",
    "version": 3
   },
   "file_extension": ".py",
   "mimetype": "text/x-python",
   "name": "python",
   "nbconvert_exporter": "python",
   "pygments_lexer": "ipython3",
   "version": "3.9.7"
  }
 },
 "nbformat": 4,
 "nbformat_minor": 5
}
